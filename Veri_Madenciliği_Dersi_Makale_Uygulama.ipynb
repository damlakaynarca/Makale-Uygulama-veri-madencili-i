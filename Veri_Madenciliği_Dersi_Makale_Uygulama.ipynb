{
  "nbformat": 4,
  "nbformat_minor": 0,
  "metadata": {
    "colab": {
      "provenance": [],
      "authorship_tag": "ABX9TyNLZCknjHWg3ipk8Ipg7l5a",
      "include_colab_link": true
    },
    "kernelspec": {
      "name": "python3",
      "display_name": "Python 3"
    },
    "language_info": {
      "name": "python"
    }
  },
  "cells": [
    {
      "cell_type": "markdown",
      "metadata": {
        "id": "view-in-github",
        "colab_type": "text"
      },
      "source": [
        "<a href=\"https://colab.research.google.com/github/damlakaynarca/Makale-Uygulama-veri-madencili-i/blob/main/Veri_Madencili%C4%9Fi_Dersi_Makale_Uygulama.ipynb\" target=\"_parent\"><img src=\"https://colab.research.google.com/assets/colab-badge.svg\" alt=\"Open In Colab\"/></a>"
      ]
    },
    {
      "cell_type": "code",
      "execution_count": 6,
      "metadata": {
        "colab": {
          "base_uri": "https://localhost:8080/"
        },
        "id": "x0VP5fNpSuI-",
        "outputId": "40173bb9-8cee-49d2-851e-a1aabd4e58f5"
      },
      "outputs": [
        {
          "output_type": "stream",
          "name": "stdout",
          "text": [
            "Random Forest Feature Importance ile Özellik Seçimi\n",
            "Boruta Özellik Seçimi\n",
            "Recursive Feature Elimination (RFE)\n",
            "\n",
            "Random Forest ile Seçilen Özelliklerle Performans:\n",
            "Random Forest: Accuracy = 0.9029, Kappa = 0.4757\n",
            "SVM: Accuracy = 0.8993, Kappa = 0.2753\n",
            "KNN: Accuracy = 0.8859, Kappa = 0.3776\n",
            "LDA: Accuracy = 0.9005, Kappa = 0.4276\n",
            "\n",
            "Boruta ile Seçilen Özelliklerle Performans:\n",
            "Random Forest: Accuracy = 0.8956, Kappa = 0.4637\n",
            "SVM: Accuracy = 0.8883, Kappa = 0.0166\n",
            "KNN: Accuracy = 0.8847, Kappa = 0.3677\n",
            "LDA: Accuracy = 0.8908, Kappa = 0.4161\n",
            "\n",
            "RFE ile Seçilen Özelliklerle Performans:\n",
            "Random Forest: Accuracy = 0.9029, Kappa = 0.4648\n",
            "SVM: Accuracy = 0.8993, Kappa = 0.2753\n",
            "KNN: Accuracy = 0.8859, Kappa = 0.3776\n",
            "LDA: Accuracy = 0.9029, Kappa = 0.4534\n"
          ]
        }
      ],
      "source": [
        "# Gerekli Kütüphanelerin Yüklenmesi\n",
        "import pandas as pd\n",
        "import numpy as np\n",
        "from sklearn.model_selection import train_test_split, cross_val_score\n",
        "from sklearn.ensemble import RandomForestClassifier\n",
        "from sklearn.feature_selection import RFE\n",
        "from sklearn.svm import SVC\n",
        "from sklearn.neighbors import KNeighborsClassifier\n",
        "from sklearn.discriminant_analysis import LinearDiscriminantAnalysis\n",
        "from sklearn.metrics import accuracy_score, cohen_kappa_score\n",
        "from boruta import BorutaPy\n",
        "import zipfile\n",
        "import io\n",
        "import requests\n",
        "\n",
        "# 1. Veri Setinin Yüklenmesi (Bank Marketing veri seti)\n",
        "url = 'https://archive.ics.uci.edu/ml/machine-learning-databases/00222/bank-additional.zip'\n",
        "response = requests.get(url)\n",
        "with zipfile.ZipFile(io.BytesIO(response.content)) as z:\n",
        "    with z.open('bank-additional/bank-additional.csv') as f:\n",
        "        df = pd.read_csv(f, sep=';', header=0)\n",
        "\n",
        "# Veriyi Hazırlama\n",
        "X = df.drop('y', axis=1)  # Hedef sütunu kaldırma\n",
        "y = df['y'].apply(lambda x: 1 if x == 'yes' else 0)  # Binary encoding\n",
        "X = pd.get_dummies(X)  # Kategorik değişkenleri sayısallaştırma\n",
        "\n",
        "# Eğitim ve Test Kümesi\n",
        "X_train, X_test, y_train, y_test = train_test_split(X, y, test_size=0.2, random_state=42)\n",
        "\n",
        "# 2. Özellik Seçimi - Random Forest ile Feature Importance\n",
        "print(\"Random Forest Feature Importance ile Özellik Seçimi\")\n",
        "rf = RandomForestClassifier(n_estimators=100, random_state=42)\n",
        "rf.fit(X_train, y_train)\n",
        "feature_importances = rf.feature_importances_\n",
        "important_features_rf = X_train.columns[feature_importances > np.mean(feature_importances)]\n",
        "\n",
        "# 3. Boruta ile Özellik Seçimi\n",
        "print(\"Boruta Özellik Seçimi\")\n",
        "boruta = BorutaPy(rf, n_estimators='auto', verbose=0, random_state=42)\n",
        "boruta.fit(X_train.values, y_train.values)\n",
        "important_features_boruta = X_train.columns[boruta.support_]\n",
        "\n",
        "# 4. RFE (Recursive Feature Elimination) ile Özellik Seçimi\n",
        "print(\"Recursive Feature Elimination (RFE)\")\n",
        "rfe = RFE(rf, n_features_to_select=10)\n",
        "rfe.fit(X_train, y_train)\n",
        "important_features_rfe = X_train.columns[rfe.support_]\n",
        "\n",
        "# 5. Model Eğitimi ve Değerlendirme\n",
        "models = {\n",
        "    'Random Forest': RandomForestClassifier(n_estimators=100, random_state=42),\n",
        "    'SVM': SVC(kernel='rbf', C=1, gamma='scale'),\n",
        "    'KNN': KNeighborsClassifier(n_neighbors=5),\n",
        "    'LDA': LinearDiscriminantAnalysis()\n",
        "}\n",
        "\n",
        "# Fonksiyon: Model Performansını Değerlendirme\n",
        "def evaluate_model(model, X_train, X_test, y_train, y_test):\n",
        "    model.fit(X_train, y_train)\n",
        "    y_pred = model.predict(X_test)\n",
        "    accuracy = accuracy_score(y_test, y_pred)\n",
        "    kappa = cohen_kappa_score(y_test, y_pred)\n",
        "    return accuracy, kappa\n",
        "\n",
        "# Seçilen Özelliklerle Modellerin Performansı\n",
        "for method, features in zip(['Random Forest', 'Boruta', 'RFE'],\n",
        "                            [important_features_rf, important_features_boruta, important_features_rfe]):\n",
        "    print(f\"\\n{method} ile Seçilen Özelliklerle Performans:\")\n",
        "    for model_name, model in models.items():\n",
        "        acc, kappa = evaluate_model(model, X_train[features], X_test[features], y_train, y_test)\n",
        "        print(f\"{model_name}: Accuracy = {acc:.4f}, Kappa = {kappa:.4f}\")"
      ]
    }
  ]
}